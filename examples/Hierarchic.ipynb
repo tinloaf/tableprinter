{
 "cells": [
  {
   "cell_type": "code",
   "execution_count": 1,
   "metadata": {},
   "outputs": [],
   "source": [
    "# This is only necessary to execute this notebook from the examples folder.\n",
    "import sys\n",
    "import os\n",
    "sys.path.insert(0, os.path.abspath('..'))\n",
    "\n",
    "from tableprinter import Tableprinter\n",
    "\n",
    "# For displaying the HTML output directly in the notebook\n",
    "from IPython.display import HTML"
   ]
  },
  {
   "cell_type": "code",
   "execution_count": 2,
   "metadata": {},
   "outputs": [],
   "source": [
    "# Generate hierarchic data. x1 and x2 are the two x-coordinates. y1, y2 and y3 are three levels of y-coordinates.\n",
    "data = [\n",
    "    {'x1': x1, 'x2': x2, 'y1': y1, 'y2': y2, 'y3': y3, 'content': '{}/{}-{}/{}/{}'.format(x1,x2,y1,y2,y3)}\n",
    "    for x1 in ['a', 'b'] for x2 in [1,2] for y1 in ['x', 'y'] for y2 in ['3', '4'] for y3 in ['i', 'j']\n",
    "]\n",
    "\n",
    "# Not all cells have to be present\n",
    "_ = data.pop(23)"
   ]
  },
  {
   "cell_type": "code",
   "execution_count": 3,
   "metadata": {},
   "outputs": [],
   "source": [
    "tp = Tableprinter(data, x_dimensions=('x1','x2'), y_dimensions=('y1','y2','y3'))"
   ]
  },
  {
   "cell_type": "code",
   "execution_count": 4,
   "metadata": {},
   "outputs": [
    {
     "name": "stdout",
     "output_type": "stream",
     "text": [
      "┏━━━━━━┳━━━━━━━━━━━┳━━━━━━━━━━━┳━━━━━━━━━━━┳━━━━━━━━━━━┓\n",
      "┃      ┃           a           ┃           b           ┃\n",
      "┃      ┃     1     ┃     2     ┃     1     ┃     2     ┃\n",
      "┣━━━━━━╋━━━━━━━━━━━╋━━━━━━━━━━━╋━━━━━━━━━━━╋━━━━━━━━━━━┫\n",
      "│    i │ a/1-x/3/i │ a/2-x/3/i │ b/1-x/3/i │ b/2-x/3/i │\n",
      "│  3 ──├───────────┼───────────┼───────────┼───────────┤\n",
      "│    j │ a/1-x/3/j │ a/2-x/3/j │ b/1-x/3/j │ b/2-x/3/j │\n",
      "│x ────├───────────┼───────────┼───────────┼───────────┤\n",
      "│    i │ a/1-x/4/i │ a/2-x/4/i │ b/1-x/4/i │ b/2-x/4/i │\n",
      "│  4 ──├───────────┼───────────┼───────────┼───────────┤\n",
      "│    j │ a/1-x/4/j │ a/2-x/4/j │ b/1-x/4/j │ b/2-x/4/j │\n",
      "│──────├───────────┼───────────┼───────────┼───────────┤\n",
      "│    i │ a/1-y/3/i │ a/2-y/3/i │ b/1-y/3/i │ b/2-y/3/i │\n",
      "│  3 ──├───────────┼───────────┼───────────┼───────────┤\n",
      "│    j │ a/1-y/3/j │ a/2-y/3/j │ b/1-y/3/j │ b/2-y/3/j │\n",
      "│y ────├───────────┼───────────┼───────────┼───────────┤\n",
      "│    i │ a/1-y/4/i │ a/2-y/4/i │ b/1-y/4/i │ b/2-y/4/i │\n",
      "│  4 ──├───────────┼───────────┼───────────┼───────────┤\n",
      "│    j │ a/1-y/4/j │ a/2-y/4/j │    --     │ b/2-y/4/j │\n",
      "└──────┴───────────┴───────────┴───────────┴───────────┘\n",
      "\n"
     ]
    }
   ],
   "source": [
    "print(tp.as_unicode())"
   ]
  },
  {
   "cell_type": "code",
   "execution_count": 5,
   "metadata": {},
   "outputs": [
    {
     "data": {
      "text/html": [
       "\n",
       "<table class = \"tableprinted\">\n",
       "        <tr> <th class=\"toplabel\" colspan=\"3\"></th><th colspan=\"2\" style=\"padding: 0px; text-align: center;\"><div style=\"border-bottom: 1px solid black;margin-left: 3px; margin-right: 7px;\">a</div></th><th colspan=\"2\" style=\"padding: 0px; text-align: center;\"><div style=\"border-bottom: 1px solid black;margin-left: 3px; margin-right: 7px;\">b</div></th></tr>\n",
       "<tr> <th class=\"toplabel\" colspan=\"3\"></th><th colspan=\"1\" style=\"padding: 0px; text-align: center;\"><div style=\"border-bottom: 1px solid black;margin-left: 3px; margin-right: 7px;\">1</div></th><th colspan=\"1\" style=\"padding: 0px; text-align: center;\"><div style=\"border-bottom: 1px solid black;margin-left: 3px; margin-right: 7px;\">2</div></th><th colspan=\"1\" style=\"padding: 0px; text-align: center;\"><div style=\"border-bottom: 1px solid black;margin-left: 3px; margin-right: 7px;\">1</div></th><th colspan=\"1\" style=\"padding: 0px; text-align: center;\"><div style=\"border-bottom: 1px solid black;margin-left: 3px; margin-right: 7px;\">2</div></th></tr>\n",
       "<tr><th class=\"leftlabel\" rowspan=\"4\" style=\"\">x</td><th class=\"leftlabel\" rowspan=\"2\" style=\"\">3</td><th class=\"leftlabel\" rowspan=\"1\" style=\"\">i</td><td class=\"content\" style=\"text-align: center;\">a/1-x/3/i</td><td class=\"content\" style=\"text-align: center;\">a/2-x/3/i</td><td class=\"content\" style=\"text-align: center;\">b/1-x/3/i</td><td class=\"content\" style=\"text-align: center;\">b/2-x/3/i</td></tr>\n",
       "<tr><th class=\"leftlabel\" rowspan=\"1\" style=\"\">j</td><td class=\"content\" style=\"text-align: center;\">a/1-x/3/j</td><td class=\"content\" style=\"text-align: center;\">a/2-x/3/j</td><td class=\"content\" style=\"text-align: center;\">b/1-x/3/j</td><td class=\"content\" style=\"text-align: center;\">b/2-x/3/j</td></tr>\n",
       "<tr><th class=\"leftlabel\" rowspan=\"2\" style=\"border-top: 1px solid black;\">4</td><th class=\"leftlabel\" rowspan=\"1\" style=\"border-top: 1px solid black;\">i</td><td class=\"content\" style=\"text-align: center;\">a/1-x/4/i</td><td class=\"content\" style=\"text-align: center;\">a/2-x/4/i</td><td class=\"content\" style=\"text-align: center;\">b/1-x/4/i</td><td class=\"content\" style=\"text-align: center;\">b/2-x/4/i</td></tr>\n",
       "<tr><th class=\"leftlabel\" rowspan=\"1\" style=\"\">j</td><td class=\"content\" style=\"text-align: center;\">a/1-x/4/j</td><td class=\"content\" style=\"text-align: center;\">a/2-x/4/j</td><td class=\"content\" style=\"text-align: center;\">b/1-x/4/j</td><td class=\"content\" style=\"text-align: center;\">b/2-x/4/j</td></tr>\n",
       "<tr><th class=\"leftlabel\" rowspan=\"4\" style=\"border-top: 1px solid black;\">y</td><th class=\"leftlabel\" rowspan=\"2\" style=\"border-top: 1px solid black;\">3</td><th class=\"leftlabel\" rowspan=\"1\" style=\"border-top: 1px solid black;\">i</td><td class=\"content\" style=\"text-align: center;\">a/1-y/3/i</td><td class=\"content\" style=\"text-align: center;\">a/2-y/3/i</td><td class=\"content\" style=\"text-align: center;\">b/1-y/3/i</td><td class=\"content\" style=\"text-align: center;\">b/2-y/3/i</td></tr>\n",
       "<tr><th class=\"leftlabel\" rowspan=\"1\" style=\"\">j</td><td class=\"content\" style=\"text-align: center;\">a/1-y/3/j</td><td class=\"content\" style=\"text-align: center;\">a/2-y/3/j</td><td class=\"content\" style=\"text-align: center;\">b/1-y/3/j</td><td class=\"content\" style=\"text-align: center;\">b/2-y/3/j</td></tr>\n",
       "<tr><th class=\"leftlabel\" rowspan=\"2\" style=\"border-top: 1px solid black;\">4</td><th class=\"leftlabel\" rowspan=\"1\" style=\"border-top: 1px solid black;\">i</td><td class=\"content\" style=\"text-align: center;\">a/1-y/4/i</td><td class=\"content\" style=\"text-align: center;\">a/2-y/4/i</td><td class=\"content\" style=\"text-align: center;\">b/1-y/4/i</td><td class=\"content\" style=\"text-align: center;\">b/2-y/4/i</td></tr>\n",
       "<tr><th class=\"leftlabel\" rowspan=\"1\" style=\"\">j</td><td class=\"content\" style=\"text-align: center;\">a/1-y/4/j</td><td class=\"content\" style=\"text-align: center;\">a/2-y/4/j</td><td class=\"content empty\">--</td><td class=\"content\" style=\"text-align: center;\">b/2-y/4/j</td></tr>\n",
       "</table>"
      ],
      "text/plain": [
       "<IPython.core.display.HTML object>"
      ]
     },
     "execution_count": 5,
     "metadata": {},
     "output_type": "execute_result"
    }
   ],
   "source": [
    "HTML(tp.as_html())"
   ]
  },
  {
   "cell_type": "markdown",
   "metadata": {},
   "source": [
    "*Note*: The produced HTML sets various `class` attributes and can therefore be arbitrarily styled."
   ]
  },
  {
   "cell_type": "code",
   "execution_count": 6,
   "metadata": {},
   "outputs": [
    {
     "name": "stdout",
     "output_type": "stream",
     "text": [
      "\n",
      "\\begin{tabular}{ rrrcccc }\n",
      "\\toprule\n",
      "\\multicolumn{ 3 }{c}{  } & \\multicolumn{ 2 }{c}{ a } & \\multicolumn{ 2 }{c}{ b } \\\\ \n",
      "\\cmidrule(lr){ 4 - 5 } \\cmidrule(lr){ 6 - 7 } \n",
      "\\multicolumn{ 3 }{c}{  } & 1& 2& 1& 2\\\\ \n",
      "\n",
      "\\midrule \n",
      "\\multirow{ 4 }{*}{x} & \\multirow{ 2 }{*}{3} & \\multirow{ 1 }{*}{i} & a/1-x/3/i & a/2-x/3/i & b/1-x/3/i & b/2-x/3/i\\\\ \n",
      " &  & \\multirow{ 1 }{*}{j} & a/1-x/3/j & a/2-x/3/j & b/1-x/3/j & b/2-x/3/j\\\\ \n",
      "\\cmidrule(lr){ 2 - 3 } \\\\ \n",
      " & \\multirow{ 2 }{*}{4} & \\multirow{ 1 }{*}{i} & a/1-x/4/i & a/2-x/4/i & b/1-x/4/i & b/2-x/4/i\\\\ \n",
      " &  & \\multirow{ 1 }{*}{j} & a/1-x/4/j & a/2-x/4/j & b/1-x/4/j & b/2-x/4/j\\\\ \n",
      "\\cmidrule(lr){ 1 - 3 } \\\\ \n",
      "\\multirow{ 4 }{*}{y} & \\multirow{ 2 }{*}{3} & \\multirow{ 1 }{*}{i} & a/1-y/3/i & a/2-y/3/i & b/1-y/3/i & b/2-y/3/i\\\\ \n",
      " &  & \\multirow{ 1 }{*}{j} & a/1-y/3/j & a/2-y/3/j & b/1-y/3/j & b/2-y/3/j\\\\ \n",
      "\\cmidrule(lr){ 2 - 3 } \\\\ \n",
      " & \\multirow{ 2 }{*}{4} & \\multirow{ 1 }{*}{i} & a/1-y/4/i & a/2-y/4/i & b/1-y/4/i & b/2-y/4/i\\\\ \n",
      " &  & \\multirow{ 1 }{*}{j} & a/1-y/4/j & a/2-y/4/j & -- & b/2-y/4/j\\\\ \n",
      "\n",
      "\\bottomrule\n",
      "\\end{tabular}\n",
      "\n"
     ]
    }
   ],
   "source": [
    "print(tp.as_latex())"
   ]
  },
  {
   "cell_type": "code",
   "execution_count": null,
   "metadata": {},
   "outputs": [],
   "source": []
  }
 ],
 "metadata": {
  "kernelspec": {
   "display_name": "Python 3",
   "language": "python",
   "name": "python3"
  },
  "language_info": {
   "codemirror_mode": {
    "name": "ipython",
    "version": 3
   },
   "file_extension": ".py",
   "mimetype": "text/x-python",
   "name": "python",
   "nbconvert_exporter": "python",
   "pygments_lexer": "ipython3",
   "version": "3.5.2"
  }
 },
 "nbformat": 4,
 "nbformat_minor": 2
}
