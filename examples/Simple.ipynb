{
 "cells": [
  {
   "cell_type": "code",
   "execution_count": 1,
   "metadata": {},
   "outputs": [],
   "source": [
    "# This is only necessary to execute this notebook from the examples folder.\n",
    "import sys\n",
    "import os\n",
    "sys.path.insert(0, os.path.abspath('..'))\n",
    "\n",
    "from tableprinter import Tableprinter\n",
    "\n",
    "# For displaying the HTML output directly in the notebook\n",
    "from IPython.display import HTML"
   ]
  },
  {
   "cell_type": "code",
   "execution_count": 2,
   "metadata": {},
   "outputs": [],
   "source": [
    "data = [\n",
    "    {'x': 'a', 'y': 1, 'content': 'Top Left'},\n",
    "    {'x': 'b', 'y': 1, 'content': 'Top Right'},\n",
    "    {'x': 'a', 'y': 2, 'content': 'Bottom Left'},\n",
    "    {'x': 'b', 'y': 2, 'content': 'Bottom Right'}\n",
    "]"
   ]
  },
  {
   "cell_type": "code",
   "execution_count": 3,
   "metadata": {},
   "outputs": [],
   "source": [
    "tp = Tableprinter(data, x_dimensions=('x',), y_dimensions=('y',))"
   ]
  },
  {
   "cell_type": "markdown",
   "metadata": {},
   "source": [
    "Text Output\n",
    "==========="
   ]
  },
  {
   "cell_type": "code",
   "execution_count": 4,
   "metadata": {},
   "outputs": [
    {
     "name": "stdout",
     "output_type": "stream",
     "text": [
      "#==#=============#==============#\n",
      "|  |      a      |      b       |\n",
      "#==#=============#==============#\n",
      "|1 |  Top Left   |  Top Right   |\n",
      "|--+-------------+--------------+\n",
      "|2 | Bottom Left | Bottom Right |\n",
      "+--+-------------+--------------+\n",
      "\n"
     ]
    }
   ],
   "source": [
    "print(tp.as_ascii())"
   ]
  },
  {
   "cell_type": "code",
   "execution_count": 5,
   "metadata": {},
   "outputs": [
    {
     "name": "stdout",
     "output_type": "stream",
     "text": [
      "┏━━┳━━━━━━━━━━━━━┳━━━━━━━━━━━━━━┓\n",
      "┃  ┃      a      ┃      b       ┃\n",
      "┣━━╋━━━━━━━━━━━━━╋━━━━━━━━━━━━━━┫\n",
      "│1 │  Top Left   │  Top Right   │\n",
      "│──├─────────────┼──────────────┤\n",
      "│2 │ Bottom Left │ Bottom Right │\n",
      "└──┴─────────────┴──────────────┘\n",
      "\n"
     ]
    }
   ],
   "source": [
    "print(tp.as_unicode())"
   ]
  },
  {
   "cell_type": "markdown",
   "metadata": {},
   "source": [
    "HTML Output\n",
    "==========="
   ]
  },
  {
   "cell_type": "code",
   "execution_count": 6,
   "metadata": {},
   "outputs": [
    {
     "data": {
      "text/html": [
       "\n",
       "<table class = \"tableprinted\">\n",
       "        <tr> <th class=\"toplabel\" colspan=\"1\"></th><th colspan=\"1\" style=\"padding: 0px; text-align: center;\"><div style=\"border-bottom: 1px solid black;margin-left: 3px; margin-right: 7px;\">a</div></th><th colspan=\"1\" style=\"padding: 0px; text-align: center;\"><div style=\"border-bottom: 1px solid black;margin-left: 3px; margin-right: 7px;\">b</div></th></tr>\n",
       "<tr><th class=\"leftlabel\" rowspan=\"1\" style=\"\">1</td><td class=\"content\" style=\"text-align: center;\">Top Left</td><td class=\"content\" style=\"text-align: center;\">Top Right</td></tr>\n",
       "<tr><th class=\"leftlabel\" rowspan=\"1\" style=\"\">2</td><td class=\"content\" style=\"text-align: center;\">Bottom Left</td><td class=\"content\" style=\"text-align: center;\">Bottom Right</td></tr>\n",
       "</table>"
      ],
      "text/plain": [
       "<IPython.core.display.HTML object>"
      ]
     },
     "execution_count": 6,
     "metadata": {},
     "output_type": "execute_result"
    }
   ],
   "source": [
    "HTML(tp.as_html())"
   ]
  },
  {
   "cell_type": "markdown",
   "metadata": {},
   "source": [
    "*Note*: The produced HTML sets various `class` attributes and can therefore be arbitrarily styled."
   ]
  },
  {
   "cell_type": "markdown",
   "metadata": {},
   "source": [
    "LaTeX Output\n",
    "============\n",
    "*Note*: LaTeX output only produces the tabular environment. You probably want to wrap it into a table environment."
   ]
  },
  {
   "cell_type": "code",
   "execution_count": 7,
   "metadata": {},
   "outputs": [
    {
     "name": "stdout",
     "output_type": "stream",
     "text": [
      "\n",
      "\\begin{tabular}{ rcc }\n",
      "\\toprule\n",
      "\\multicolumn{ 1 }{c}{  } & a& b\\\\ \n",
      "\n",
      "\\midrule \n",
      "\\multirow{ 1 }{*}{1} & Top Left & Top Right\\\\ \n",
      "\\multirow{ 1 }{*}{2} & Bottom Left & Bottom Right\\\\ \n",
      "\n",
      "\\bottomrule\n",
      "\\end{tabular}\n",
      "\n"
     ]
    }
   ],
   "source": [
    "print(tp.as_latex())"
   ]
  }
 ],
 "metadata": {
  "kernelspec": {
   "display_name": "Python 3",
   "language": "python",
   "name": "python3"
  },
  "language_info": {
   "codemirror_mode": {
    "name": "ipython",
    "version": 3
   },
   "file_extension": ".py",
   "mimetype": "text/x-python",
   "name": "python",
   "nbconvert_exporter": "python",
   "pygments_lexer": "ipython3",
   "version": "3.5.2"
  }
 },
 "nbformat": 4,
 "nbformat_minor": 2
}
